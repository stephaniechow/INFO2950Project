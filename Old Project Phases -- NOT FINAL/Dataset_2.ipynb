{
 "cells": [
  {
   "cell_type": "markdown",
   "metadata": {},
   "source": [
    "# Final Project Phase 2\n",
    "\n",
    "### Alicia Chen (ac2596), Stephanie Chow (sac342), Michelle Wang (mqw4)"
   ]
  },
  {
   "cell_type": "markdown",
   "metadata": {},
   "source": [
    "\n",
    "## Introduction (finish tonight)\n",
    "\n",
    "What is the context of the work? What research question are you trying to answer? What are your main findings? \n"
   ]
  },
  {
   "cell_type": "code",
   "execution_count": 2,
   "metadata": {},
   "outputs": [],
   "source": [
    "import pandas as pd\n",
    "import numpy as np\n",
    "import matplotlib.pyplot as plt\n",
    "from sklearn.linear_model import LinearRegression\n",
    "from bs4 import BeautifulSoup"
   ]
  },
  {
   "cell_type": "code",
   "execution_count": 249,
   "metadata": {},
   "outputs": [
    {
     "data": {
      "text/html": [
       "<div>\n",
       "<style scoped>\n",
       "    .dataframe tbody tr th:only-of-type {\n",
       "        vertical-align: middle;\n",
       "    }\n",
       "\n",
       "    .dataframe tbody tr th {\n",
       "        vertical-align: top;\n",
       "    }\n",
       "\n",
       "    .dataframe thead th {\n",
       "        text-align: right;\n",
       "    }\n",
       "</style>\n",
       "<table border=\"1\" class=\"dataframe\">\n",
       "  <thead>\n",
       "    <tr style=\"text-align: right;\">\n",
       "      <th></th>\n",
       "      <th>artist</th>\n",
       "      <th># of mvs</th>\n",
       "      <th>total views</th>\n",
       "      <th>likes</th>\n",
       "    </tr>\n",
       "  </thead>\n",
       "  <tbody>\n",
       "    <tr>\n",
       "      <th>0</th>\n",
       "      <td>Psy + Hyuna</td>\n",
       "      <td>1</td>\n",
       "      <td>761.917.808</td>\n",
       "      <td>2.412.172 (82,8%)</td>\n",
       "    </tr>\n",
       "    <tr>\n",
       "      <th>1</th>\n",
       "      <td>PSY (싸이)</td>\n",
       "      <td>11</td>\n",
       "      <td>6.036.195.075</td>\n",
       "      <td>31.816.332 (89,3%)</td>\n",
       "    </tr>\n",
       "    <tr>\n",
       "      <th>2</th>\n",
       "      <td>PSY + Snoop Dogg</td>\n",
       "      <td>1</td>\n",
       "      <td>340.897.007</td>\n",
       "      <td>2.091.956 (81,3%)</td>\n",
       "    </tr>\n",
       "    <tr>\n",
       "      <th>3</th>\n",
       "      <td>Blackpink (블랙핑크)</td>\n",
       "      <td>12</td>\n",
       "      <td>6.194.456.333</td>\n",
       "      <td>69.366.637 (95,7%)</td>\n",
       "    </tr>\n",
       "    <tr>\n",
       "      <th>4</th>\n",
       "      <td>Jennie (제니)</td>\n",
       "      <td>1</td>\n",
       "      <td>626.181.173</td>\n",
       "      <td>10.117.376 (96,2%)</td>\n",
       "    </tr>\n",
       "  </tbody>\n",
       "</table>\n",
       "</div>"
      ],
      "text/plain": [
       "              artist # of mvs    total views               likes\n",
       "0       Psy + Hyuna         1    761.917.808   2.412.172 (82,8%)\n",
       "1           PSY (싸이)       11  6.036.195.075  31.816.332 (89,3%)\n",
       "2  PSY + Snoop Dogg         1    340.897.007   2.091.956 (81,3%)\n",
       "3   Blackpink (블랙핑크)       12  6.194.456.333  69.366.637 (95,7%)\n",
       "4        Jennie (제니)        1    626.181.173  10.117.376 (96,2%)"
      ]
     },
     "execution_count": 249,
     "metadata": {},
     "output_type": "execute_result"
    }
   ],
   "source": [
    "## Source: kpop_vids_yt.htm\n",
    "\n",
    "html_soup = BeautifulSoup()\n",
    "with open(\"kpop_vids_yt.htm\") as file_reader:\n",
    "    soup = BeautifulSoup(file_reader, \"lxml\")\n",
    "    \n",
    "data = []\n",
    "for tr in soup.find_all(\"tr\", class_ = \"clickable\"):\n",
    "    for td in tr.find_all(\"td\"):\n",
    "        x = td.get_text()\n",
    "        data.append(x)\n",
    "\n",
    "artist_raw = []\n",
    "artist = []\n",
    "mv_count = []\n",
    "all_views_artist = []\n",
    "likes = []\n",
    "\n",
    "while len(data) > 8:\n",
    "    x = data[0:8]\n",
    "    artist_raw.append(x[0])\n",
    "    mv_count.append(x[1])\n",
    "    all_views_artist.append(x[2])\n",
    "    likes.append(x[3])\n",
    "    data = data[9:]\n",
    "\n",
    "for i, element in enumerate(artist_raw):\n",
    "    if i < 9:\n",
    "        element = element[3:]\n",
    "        artist.append(element)\n",
    "    else:\n",
    "        element = element[4:]\n",
    "        artist.append(element)\n",
    "\n",
    "\n",
    "df = pd.DataFrame({\"artist\": artist, \"# of mvs\": mv_count, \"total views\": all_views_artist, \"likes\": likes})\n",
    "df.head()"
   ]
  },
  {
   "cell_type": "code",
   "execution_count": 174,
   "metadata": {},
   "outputs": [],
   "source": []
  },
  {
   "cell_type": "markdown",
   "metadata": {},
   "source": [
    "## Data Description (finish tonight)\n",
    "\n",
    "Answer the following questions:\n",
    "- What are the observations (rows) and the attributes (columns)?\n",
    "- Why was this dataset created?\n",
    "- Who funded the creation of the dataset?\n",
    "- What processes might have influenced what data was observed and recorded and what was not?\n",
    "- What preprocessing was done, and how did the data come to be in the form that you are using?\n",
    "- If people are involved, were they aware of the data collection and if so, what purpose did they expect the data to be used for?\n",
    "- Where can your raw source data be found, if applicable? Provide a link to the raw data (hosted in a Cornell Google Drive or Cornell Box). \n"
   ]
  },
  {
   "cell_type": "code",
   "execution_count": null,
   "metadata": {},
   "outputs": [],
   "source": [
    "\n",
    "\n",
    "\n",
    "# for tr in soup.find_all(\"tr\"):\n",
    "#     # for headers ( entered only once - the first time - )\n",
    "#     for th in tr.find_all(\"th\"):\n",
    "#         data.append(th.text)\n",
    "        \n",
    "\n",
    "#     for td in tr.find_all(\"td\"):\n",
    "#         if td.a:\n",
    "#             data.append(td.a.text.strip())\n",
    "#         else:\n",
    "#             data.append(td.text.strip())\n",
    "#     if data:\n",
    "#         print(\"Inserting data: {}\".format(','.join(data)))\n",
    "#         csv_writer.writerow(data)"
   ]
  },
  {
   "cell_type": "markdown",
   "metadata": {},
   "source": [
    "## Data Analysis\n",
    "\n",
    "- Use summary functions like mean and standard deviation along with visual displays like scatter plots and histograms to describe data.\n",
    "- Provide at least one model showing patterns or relationships between variables that addresses your research question. This could be a regression or clustering, or something else that measures some property of the dataset.\n",
    "\n"
   ]
  },
  {
   "cell_type": "markdown",
   "metadata": {},
   "source": [
    "## Evaluation of Significance\n",
    "\n",
    "Use hypothesis tests, simulation, randomization, or any other techniques we have learned to compare the patterns you observe in the dataset to simple randomness. "
   ]
  },
  {
   "cell_type": "markdown",
   "metadata": {},
   "source": [
    "## Conclusion\n",
    "\n",
    "What did you find over the course of your data analysis, and how confident are you in these conclusions? Interpret these results in the wider context of the real-life application from where your data hails."
   ]
  },
  {
   "cell_type": "markdown",
   "metadata": {},
   "source": [
    "## Source Code\n",
    "\n",
    "Provide a link to your Github repository (or other file hosting site) that has all of your project code (if applicable). For example, you might include web scraping code or data filtering and aggregation code."
   ]
  },
  {
   "cell_type": "markdown",
   "metadata": {},
   "source": [
    "## Acknowledgements\n",
    "\n",
    "Recognize any people or online resources that you found helpful. These can be tutorials, software packages, Stack Overflow questions, peers, and data sources. Showing gratitude is a great way to feel happier! But it also has the nice side-effect of reassuring us that you're not passing off someone else's work as your own. Crossover with other courses is permitted and encouraged, but it must be clearly stated, and it must be obvious what parts were and were not done for 2950. Copying without attribution robs you of the chance to learn, and wastes our time investigating."
   ]
  },
  {
   "cell_type": "code",
   "execution_count": null,
   "metadata": {},
   "outputs": [],
   "source": []
  }
 ],
 "metadata": {
  "kernelspec": {
   "display_name": "Python 3",
   "language": "python",
   "name": "python3"
  },
  "language_info": {
   "codemirror_mode": {
    "name": "ipython",
    "version": 3
   },
   "file_extension": ".py",
   "mimetype": "text/x-python",
   "name": "python",
   "nbconvert_exporter": "python",
   "pygments_lexer": "ipython3",
   "version": "3.7.6"
  }
 },
 "nbformat": 4,
 "nbformat_minor": 2
}
