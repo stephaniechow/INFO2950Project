{
 "cells": [
  {
   "cell_type": "markdown",
   "metadata": {},
   "source": [
    "# Final Project Phase 2\n",
    "\n",
    "### Alicia Chen (ac2596), Stephanie Chow (sac342), Michelle Wang (mqw4)"
   ]
  },
  {
   "cell_type": "markdown",
   "metadata": {},
   "source": [
    "\n",
    "## Introduction\n",
    "\n",
    "What is the context of the work? What research question are you trying to answer? What are your main findings? \n",
    "\n",
    "Using datasets that catalogue information regarding K-pop songs, idols, and music videos, we want to identify major trends pertaining to the K-pop phenomenon. Three main research questions we are trying to answer are:\n",
    "1. Are there any trends between songs sung by boy groups or girl groups in terms of their popularity?\n",
    "2. What kinds of relationships exist between total likes on a MV verses their total views?\n",
    "3. How can we compare the success between soloists versus groups in the K-pop scene?"
   ]
  },
  {
   "cell_type": "markdown",
   "metadata": {},
   "source": [
    "## Data Description\n",
    "\n",
    "Answer the following questions:\n",
    "- What are the observations (rows) and the attributes (columns)?\n",
    "- Why was this dataset created?\n",
    "- Who funded the creation of the dataset?\n",
    "- What processes might have influenced what data was observed and recorded and what was not?\n",
    "- What preprocessing was done, and how did the data come to be in the form that you are using?\n",
    "- If people are involved, were they aware of the data collection and if so, what purpose did they expect the data to be used for?\n",
    "- Where can your raw source data be found, if applicable? Provide a link to the raw data (hosted in a Cornell Google Drive or Cornell Box). \n"
   ]
  },
  {
   "cell_type": "markdown",
   "metadata": {},
   "source": [
    "The dataset we plan to use is the view count and likes for music videos (MVs) of big kpop groups. The observations are the different groups that have released at least one music video as of April 2020. The attributes are the artist, the song, the view count, the liked count, as well as the average like and view count for the corresponding kpop idols. The original dataset was created as a way for the user to showcase the trends of different idols and videos as they are released. The datasets we will be using are created by a site called aoimirai.net and is also accompanied with some aggregate data from the MCountdown chart (https://www.mwave.me/en/mcountdown/mcountdown-chart_) which holds the current top trending K-Pop songs. \n",
    "\n",
    "We created our corresponding dataset as a way to figure out if there are any trends among groups that tend to be popular, or if there are any unexpected values, such as artist who may have a large overall view count, but a low view count per video. These videos and counts are taken from Youtube, so the counts from other large media distribution sites are not included. This may influence the data because Youtube is the main platform used for \"International Fans\" (those who reside outside of South Korea) whereas Naver is the primary video distribution method in South Korea. Also. popularity of a group may not be based on views and like count of a Youtube video, as there may some songs or artist who rank differently in other sites, such as iTunes and Spotify. The raw source data can be found in the aoimirai site, including http://kpop.aoimirai.net/artists.html?options=1111&cols=101100011&hideone=1&ord=3D&limit=0 and http://kpop.aoimirai.net/mvs.html\n",
    "\n",
    "The accompanying data from MCountdown could provide some interesting links between all-time popular song/music videos and those that are currently trending. A note to consider is that many of the current trending songs may have an overall smaller average view count and likes due to being released much later than their counterparts.\n",
    "\n",
    "Dataset 1 filtered the artist data by removing the associated indexing that was attached to artist names presented. In addition, both datasets 1 and 2 used the alternative method of decimals as indicators for thousands and commas as indicators for decimals. As a result, we switched the two to stay in line with American standardization."
   ]
  },
  {
   "cell_type": "code",
   "execution_count": 1,
   "metadata": {
    "collapsed": true
   },
   "outputs": [],
   "source": [
    "import pandas as pd\n",
    "import numpy as np\n",
    "import matplotlib.pyplot as plt\n",
    "from sklearn.linear_model import LinearRegression\n",
    "from sklearn.metrics import r2_score\n",
    "from bs4 import BeautifulSoup\n",
    "import re\n",
    "from scipy.stats import t"
   ]
  },
  {
   "cell_type": "code",
   "execution_count": 2,
   "metadata": {
    "collapsed": true
   },
   "outputs": [],
   "source": [
    "# Dataset 1\n",
    "# Source: kpop_vids_yt.htm\n",
    "\n",
    "with open(\"kpop_mvs_1000_entries.htm\", encoding = \"utf8\") as file_reader:\n",
    "    soup = BeautifulSoup(file_reader, \"lxml\")"
   ]
  },
  {
   "cell_type": "code",
   "execution_count": 3,
   "metadata": {},
   "outputs": [
    {
     "name": "stdout",
     "output_type": "stream",
     "text": [
      "1000. Flash(dance)\n"
     ]
    }
   ],
   "source": [
    "for tr in soup.find_all(\"tr\", class_ = \"clickable\"):\n",
    "    td_list = tr.find(\"td\").get_text()\n",
    "\n",
    "print(td_list)"
   ]
  },
  {
   "cell_type": "code",
   "execution_count": 4,
   "metadata": {
    "collapsed": true
   },
   "outputs": [],
   "source": [
    "def period_to_comma(old_array):\n",
    "    new_array = []\n",
    "    [new_array.append(i.replace(\".\", \",\")) for i in old_array]\n",
    "    return new_array\n",
    "\n",
    "def comma_to_period(old_array):\n",
    "    new_array = []\n",
    "    [new_array.append(i.replace(\",\", \".\")) for i in old_array]\n",
    "    return new_array\n",
    "\n",
    "def no_comma(data):\n",
    "    return re.sub(\",\", \"\", data)"
   ]
  },
  {
   "cell_type": "code",
   "execution_count": 5,
   "metadata": {
    "collapsed": true
   },
   "outputs": [],
   "source": [
    "data = []\n",
    "typeofartist = []\n",
    "song_raw = []\n",
    "artist = []\n",
    "\n",
    "for tr in soup.find_all(\"tr\", class_ = \"clickable\"):\n",
    "    [data.append(td.get_text()) for td in tr.find_all(\"td\")]\n",
    "    typeofartist.append(tr.div['title'])\n",
    "\n",
    "# indexing each value position\n",
    "song_index, artist_index = 0, 1\n",
    "\n",
    "while artist_index < len(data):\n",
    "    song_raw.append(data[song_index])\n",
    "    artist.append(re.sub(\" \", \"\", data[artist_index]))\n",
    "    song_index += 9\n",
    "    artist_index += 9\n",
    "    \n",
    "arrlikes_raw=[]\n",
    "arrviews_raw=[]\n",
    "arrdays_raw = []\n",
    "\n",
    "for views, likes, days in zip(soup.find_all(\"td\", class_='c0'), soup.find_all(\"td\", class_='c3'), soup.find_all(\"td\", class_='c6')):\n",
    "    arrlikes_raw.append(likes.get_text()[:])\n",
    "    arrviews_raw.append(views.get_text()[:])\n",
    "    arrdays_raw.append(days.get_text()[:])\n",
    "    \n",
    "arrlikes = period_to_comma(arrlikes_raw)\n",
    "arrviews = period_to_comma(arrviews_raw)\n",
    "arrdays = period_to_comma(arrdays_raw)"
   ]
  },
  {
   "cell_type": "code",
   "execution_count": 6,
   "metadata": {
    "collapsed": true
   },
   "outputs": [],
   "source": [
    "# cleaning song name data without numbers\n",
    "songs = []\n",
    "for song in song_raw:\n",
    "    replace_num = re.sub('\\d+. ', '', song)\n",
    "    songs.append(replace_num.strip())\n",
    "\n",
    "# cleaning likes data and splitting into two parts\n",
    "likes_total_raw = []\n",
    "likes_ratio_raw = []\n",
    "\n",
    "for likes in arrlikes:\n",
    "    likes_total_raw.append(re.sub(' \\(\\d+,\\d+%\\)', \"\", likes))\n",
    "    ratio = re.findall('(\\d+,\\d+%)', likes)\n",
    "    likes_ratio_raw.append(ratio[0])\n",
    "\n",
    "likes_total = period_to_comma(likes_total_raw)\n",
    "likes_ratio = comma_to_period(likes_ratio_raw)\n",
    "\n",
    "days = []\n",
    "for day in arrdays:\n",
    "    new_days = re.sub(\" days\", \"\", day)\n",
    "    days.append(no_comma(new_days))\n",
    "    \n",
    "arryears = np.array(days, dtype=\"float\")\n",
    "arryears = arryears/365"
   ]
  },
  {
   "cell_type": "code",
   "execution_count": 7,
   "metadata": {},
   "outputs": [
    {
     "data": {
      "text/html": [
       "<div>\n",
       "<style>\n",
       "    .dataframe thead tr:only-child th {\n",
       "        text-align: right;\n",
       "    }\n",
       "\n",
       "    .dataframe thead th {\n",
       "        text-align: left;\n",
       "    }\n",
       "\n",
       "    .dataframe tbody tr th {\n",
       "        vertical-align: top;\n",
       "    }\n",
       "</style>\n",
       "<table border=\"1\" class=\"dataframe\">\n",
       "  <thead>\n",
       "    <tr style=\"text-align: right;\">\n",
       "      <th></th>\n",
       "      <th>Song Title</th>\n",
       "      <th>Artist</th>\n",
       "      <th>Type of Artist</th>\n",
       "      <th>Likes</th>\n",
       "      <th>Likes Ratio</th>\n",
       "      <th>MV Views</th>\n",
       "      <th>Days Old</th>\n",
       "      <th>Years Old</th>\n",
       "    </tr>\n",
       "  </thead>\n",
       "  <tbody>\n",
       "    <tr>\n",
       "      <th>0</th>\n",
       "      <td>Gangnam Style</td>\n",
       "      <td>PSY</td>\n",
       "      <td>male soloist</td>\n",
       "      <td>17,848,966</td>\n",
       "      <td>88.2%</td>\n",
       "      <td>3,612,465,662</td>\n",
       "      <td>2.859 days</td>\n",
       "      <td>7.832877</td>\n",
       "    </tr>\n",
       "    <tr>\n",
       "      <th>1</th>\n",
       "      <td>Boy with luv</td>\n",
       "      <td>BTS</td>\n",
       "      <td>male group</td>\n",
       "      <td>14,942,987</td>\n",
       "      <td>94.3%</td>\n",
       "      <td>776,602,125</td>\n",
       "      <td>397 days</td>\n",
       "      <td>1.087671</td>\n",
       "    </tr>\n",
       "    <tr>\n",
       "      <th>2</th>\n",
       "      <td>DNA</td>\n",
       "      <td>BTS</td>\n",
       "      <td>male group</td>\n",
       "      <td>13,257,145</td>\n",
       "      <td>94.9%</td>\n",
       "      <td>978,195,463</td>\n",
       "      <td>968 days</td>\n",
       "      <td>2.652055</td>\n",
       "    </tr>\n",
       "    <tr>\n",
       "      <th>3</th>\n",
       "      <td>Kill this Love</td>\n",
       "      <td>Blackpink</td>\n",
       "      <td>female group</td>\n",
       "      <td>12,920,236</td>\n",
       "      <td>93.9%</td>\n",
       "      <td>826,027,265</td>\n",
       "      <td>405 days</td>\n",
       "      <td>1.109589</td>\n",
       "    </tr>\n",
       "    <tr>\n",
       "      <th>4</th>\n",
       "      <td>Ddu-du Ddu-du</td>\n",
       "      <td>Blackpink</td>\n",
       "      <td>female group</td>\n",
       "      <td>12,544,634</td>\n",
       "      <td>94.5%</td>\n",
       "      <td>1,144,730,047</td>\n",
       "      <td>698 days</td>\n",
       "      <td>1.912329</td>\n",
       "    </tr>\n",
       "  </tbody>\n",
       "</table>\n",
       "</div>"
      ],
      "text/plain": [
       "       Song Title     Artist Type of Artist       Likes Likes Ratio  \\\n",
       "0   Gangnam Style        PSY   male soloist  17,848,966       88.2%   \n",
       "1    Boy with luv        BTS     male group  14,942,987       94.3%   \n",
       "2             DNA        BTS     male group  13,257,145       94.9%   \n",
       "3  Kill this Love  Blackpink   female group  12,920,236       93.9%   \n",
       "4   Ddu-du Ddu-du  Blackpink   female group  12,544,634       94.5%   \n",
       "\n",
       "        MV Views    Days Old  Years Old  \n",
       "0  3,612,465,662  2.859 days   7.832877  \n",
       "1    776,602,125    397 days   1.087671  \n",
       "2    978,195,463    968 days   2.652055  \n",
       "3    826,027,265    405 days   1.109589  \n",
       "4  1,144,730,047    698 days   1.912329  "
      ]
     },
     "execution_count": 7,
     "metadata": {},
     "output_type": "execute_result"
    }
   ],
   "source": [
    "df = pd.DataFrame({\"Song Title\": songs, \n",
    "                   \"Artist\": artist, \n",
    "                   \"Type of Artist\": typeofartist, \n",
    "                   \"MV Views\": arrviews, \n",
    "                   \"Likes\": likes_total, \n",
    "                   \"Likes Ratio\": likes_ratio,\n",
    "                   \"Days Old\" : arrdays_raw,\n",
    "                   \"Years Old\" : arryears\n",
    "                  })\n",
    "categories = [\"Song Title\", \"Artist\", \"Type of Artist\", \"Likes\", \"Likes Ratio\", \"MV Views\", \"Days Old\", \"Years Old\"]\n",
    "df = df.reindex(columns = categories)\n",
    "df.head()"
   ]
  },
  {
   "cell_type": "code",
   "execution_count": 8,
   "metadata": {
    "collapsed": true
   },
   "outputs": [],
   "source": [
    "# Dataset 2\n",
    "\n",
    "with open(\"kpop_artists_300_entries.htm\", encoding = \"utf8\") as file_reader:\n",
    "    soup2 = BeautifulSoup(file_reader, \"lxml\")"
   ]
  },
  {
   "cell_type": "code",
   "execution_count": 9,
   "metadata": {
    "collapsed": true
   },
   "outputs": [],
   "source": [
    "def strip_numbers(data, lst):\n",
    "    counter = 0\n",
    "    while counter < len(data):\n",
    "        replace_num = re.sub('\\d+. ', '', data[counter])\n",
    "        no_space = re.sub(' ', '', replace_num)\n",
    "        lst.append(no_space)\n",
    "        counter += 9\n",
    "\n",
    "data = []\n",
    "typeofartist = []\n",
    "artist = []\n",
    "\n",
    "for tr in soup2.find_all(\"tr\", class_ = \"clickable\"):\n",
    "    [data.append(td.get_text()) for td in tr.find_all(\"td\")]\n",
    "    typeofartist.append(tr.div['title'])\n",
    "    \n",
    "strip_numbers(data, artist)"
   ]
  },
  {
   "cell_type": "code",
   "execution_count": 10,
   "metadata": {},
   "outputs": [
    {
     "data": {
      "text/html": [
       "<div>\n",
       "<style>\n",
       "    .dataframe thead tr:only-child th {\n",
       "        text-align: right;\n",
       "    }\n",
       "\n",
       "    .dataframe thead th {\n",
       "        text-align: left;\n",
       "    }\n",
       "\n",
       "    .dataframe tbody tr th {\n",
       "        vertical-align: top;\n",
       "    }\n",
       "</style>\n",
       "<table border=\"1\" class=\"dataframe\">\n",
       "  <thead>\n",
       "    <tr style=\"text-align: right;\">\n",
       "      <th></th>\n",
       "      <th>Artist</th>\n",
       "      <th>Type of Artist</th>\n",
       "      <th>Likes/MV</th>\n",
       "      <th>Sales</th>\n",
       "      <th>Total Views</th>\n",
       "    </tr>\n",
       "  </thead>\n",
       "  <tbody>\n",
       "    <tr>\n",
       "      <th>0</th>\n",
       "      <td>BTS(방탄소년단)</td>\n",
       "      <td>male group</td>\n",
       "      <td>2,400,603</td>\n",
       "      <td>21,047,066</td>\n",
       "      <td>11,914,564,663</td>\n",
       "    </tr>\n",
       "    <tr>\n",
       "      <th>1</th>\n",
       "      <td>Blackpink(블랙핑크)</td>\n",
       "      <td>female group</td>\n",
       "      <td>3,495,869</td>\n",
       "      <td>652,585</td>\n",
       "      <td>6,236,964,281</td>\n",
       "    </tr>\n",
       "    <tr>\n",
       "      <th>2</th>\n",
       "      <td>Twice(트와이스)</td>\n",
       "      <td>female group</td>\n",
       "      <td>951,944</td>\n",
       "      <td>4,572,592</td>\n",
       "      <td>5,119,889,077</td>\n",
       "    </tr>\n",
       "    <tr>\n",
       "      <th>3</th>\n",
       "      <td>EXO(엑소)</td>\n",
       "      <td>male group</td>\n",
       "      <td>1,285,821</td>\n",
       "      <td>10,273,845</td>\n",
       "      <td>2,690,343,428</td>\n",
       "    </tr>\n",
       "    <tr>\n",
       "      <th>4</th>\n",
       "      <td>GOT7(갓세븐)</td>\n",
       "      <td>male group</td>\n",
       "      <td>534,887</td>\n",
       "      <td>3,386,454</td>\n",
       "      <td>2,077,803,857</td>\n",
       "    </tr>\n",
       "  </tbody>\n",
       "</table>\n",
       "</div>"
      ],
      "text/plain": [
       "            Artist Type of Artist   Likes/MV       Sales     Total Views\n",
       "0       BTS(방탄소년단)     male group  2,400,603  21,047,066  11,914,564,663\n",
       "1  Blackpink(블랙핑크)   female group  3,495,869     652,585   6,236,964,281\n",
       "2      Twice(트와이스)   female group    951,944   4,572,592   5,119,889,077\n",
       "3          EXO(엑소)     male group  1,285,821  10,273,845   2,690,343,428\n",
       "4        GOT7(갓세븐)     male group    534,887   3,386,454   2,077,803,857"
      ]
     },
     "execution_count": 10,
     "metadata": {},
     "output_type": "execute_result"
    }
   ],
   "source": [
    "arrlikes_raw=[]\n",
    "arrsales_raw=[]\n",
    "arrviews_raw=[]\n",
    "\n",
    "for views, likes, sales in zip(soup2.find_all(\"td\", class_='c0'), soup2.find_all(\"td\", class_='c7'), soup2.find_all(\"td\", class_='c8')):\n",
    "    arrlikes_raw.append(likes.get_text()[:])\n",
    "    arrsales_raw.append(sales.get_text()[:-3])\n",
    "    arrviews_raw.append(views.get_text()[:])\n",
    "\n",
    "arrlikes = period_to_comma(arrlikes_raw)\n",
    "arrsales = period_to_comma(arrsales_raw)\n",
    "arrviews = period_to_comma(arrviews_raw)\n",
    "\n",
    "need = pd.DataFrame({\"Artist\": artist, \n",
    "                    \"Type of Artist\": typeofartist, \n",
    "                    \"Total Views\": arrviews, \n",
    "                    \"Likes/MV\": arrlikes, \n",
    "                    \"Sales\": arrsales})\n",
    "categories = [ \"Artist\", \"Type of Artist\", \"Likes/MV\", \"Sales\", \"Total Views\"]\n",
    "need = need.reindex(columns = categories)\n",
    "need.head()"
   ]
  },
  {
   "cell_type": "code",
   "execution_count": 11,
   "metadata": {},
   "outputs": [
    {
     "data": {
      "text/html": [
       "<div>\n",
       "<style>\n",
       "    .dataframe thead tr:only-child th {\n",
       "        text-align: right;\n",
       "    }\n",
       "\n",
       "    .dataframe thead th {\n",
       "        text-align: left;\n",
       "    }\n",
       "\n",
       "    .dataframe tbody tr th {\n",
       "        vertical-align: top;\n",
       "    }\n",
       "</style>\n",
       "<table border=\"1\" class=\"dataframe\">\n",
       "  <thead>\n",
       "    <tr style=\"text-align: right;\">\n",
       "      <th></th>\n",
       "      <th>Artist</th>\n",
       "      <th>Type of Artist</th>\n",
       "      <th>Likes/MV</th>\n",
       "      <th>Sales</th>\n",
       "      <th>Total Views</th>\n",
       "    </tr>\n",
       "  </thead>\n",
       "  <tbody>\n",
       "    <tr>\n",
       "      <th>0</th>\n",
       "      <td>BTS</td>\n",
       "      <td>male group</td>\n",
       "      <td>2,400,603</td>\n",
       "      <td>21,047,066</td>\n",
       "      <td>11,914,564,663</td>\n",
       "    </tr>\n",
       "    <tr>\n",
       "      <th>1</th>\n",
       "      <td>Blackpink</td>\n",
       "      <td>female group</td>\n",
       "      <td>3,495,869</td>\n",
       "      <td>652,585</td>\n",
       "      <td>6,236,964,281</td>\n",
       "    </tr>\n",
       "    <tr>\n",
       "      <th>2</th>\n",
       "      <td>Twice</td>\n",
       "      <td>female group</td>\n",
       "      <td>951,944</td>\n",
       "      <td>4,572,592</td>\n",
       "      <td>5,119,889,077</td>\n",
       "    </tr>\n",
       "    <tr>\n",
       "      <th>3</th>\n",
       "      <td>EXO</td>\n",
       "      <td>male group</td>\n",
       "      <td>1,285,821</td>\n",
       "      <td>10,273,845</td>\n",
       "      <td>2,690,343,428</td>\n",
       "    </tr>\n",
       "    <tr>\n",
       "      <th>4</th>\n",
       "      <td>GOT7</td>\n",
       "      <td>male group</td>\n",
       "      <td>534,887</td>\n",
       "      <td>3,386,454</td>\n",
       "      <td>2,077,803,857</td>\n",
       "    </tr>\n",
       "  </tbody>\n",
       "</table>\n",
       "</div>"
      ],
      "text/plain": [
       "      Artist Type of Artist   Likes/MV       Sales     Total Views\n",
       "0        BTS     male group  2,400,603  21,047,066  11,914,564,663\n",
       "1  Blackpink   female group  3,495,869     652,585   6,236,964,281\n",
       "2      Twice   female group    951,944   4,572,592   5,119,889,077\n",
       "3        EXO     male group  1,285,821  10,273,845   2,690,343,428\n",
       "4       GOT7     male group    534,887   3,386,454   2,077,803,857"
      ]
     },
     "execution_count": 11,
     "metadata": {},
     "output_type": "execute_result"
    }
   ],
   "source": [
    "new_data = []\n",
    "for tr in soup2.find_all(\"tr\", class_ = \"clickable\"):  \n",
    "    row = tr.find('td')\n",
    "    small = row.small\n",
    "    if type(small) != type(None):\n",
    "        small.decompose()\n",
    "    [new_data.append(td.get_text()) for td in tr.find_all(\"td\")]\n",
    "\n",
    "artists = []\n",
    "strip_numbers(new_data, artists)\n",
    "\n",
    "new = need.copy()\n",
    "new['Artist'] = artists\n",
    "new.head()"
   ]
  },
  {
   "cell_type": "code",
   "execution_count": 12,
   "metadata": {
    "scrolled": false
   },
   "outputs": [
    {
     "data": {
      "text/html": [
       "<div>\n",
       "<style>\n",
       "    .dataframe thead tr:only-child th {\n",
       "        text-align: right;\n",
       "    }\n",
       "\n",
       "    .dataframe thead th {\n",
       "        text-align: left;\n",
       "    }\n",
       "\n",
       "    .dataframe tbody tr th {\n",
       "        vertical-align: top;\n",
       "    }\n",
       "</style>\n",
       "<table border=\"1\" class=\"dataframe\">\n",
       "  <thead>\n",
       "    <tr style=\"text-align: right;\">\n",
       "      <th></th>\n",
       "      <th>Song Title</th>\n",
       "      <th>Artist</th>\n",
       "      <th>Type of Artist</th>\n",
       "      <th>Likes</th>\n",
       "      <th>Likes Ratio</th>\n",
       "      <th>MV Views</th>\n",
       "      <th>Days Old</th>\n",
       "      <th>Years Old</th>\n",
       "      <th>Likes/MV</th>\n",
       "      <th>Sales</th>\n",
       "      <th>Total Views</th>\n",
       "    </tr>\n",
       "  </thead>\n",
       "  <tbody>\n",
       "    <tr>\n",
       "      <th>0</th>\n",
       "      <td>Gangnam Style</td>\n",
       "      <td>PSY</td>\n",
       "      <td>male soloist</td>\n",
       "      <td>17,848,966</td>\n",
       "      <td>88.2%</td>\n",
       "      <td>3,612,465,662</td>\n",
       "      <td>2.859 days</td>\n",
       "      <td>7.832877</td>\n",
       "      <td>1,997,592</td>\n",
       "      <td>518,974</td>\n",
       "      <td>6,054,464,700</td>\n",
       "    </tr>\n",
       "    <tr>\n",
       "      <th>1</th>\n",
       "      <td>Gentleman</td>\n",
       "      <td>PSY</td>\n",
       "      <td>male soloist</td>\n",
       "      <td>6,007,998</td>\n",
       "      <td>87.3%</td>\n",
       "      <td>1,312,037,506</td>\n",
       "      <td>2.587 days</td>\n",
       "      <td>7.087671</td>\n",
       "      <td>1,997,592</td>\n",
       "      <td>518,974</td>\n",
       "      <td>6,054,464,700</td>\n",
       "    </tr>\n",
       "    <tr>\n",
       "      <th>2</th>\n",
       "      <td>Daddy</td>\n",
       "      <td>PSY</td>\n",
       "      <td>male soloist</td>\n",
       "      <td>3,799,519</td>\n",
       "      <td>93.8%</td>\n",
       "      <td>493,121,830</td>\n",
       "      <td>1.626 days</td>\n",
       "      <td>4.454795</td>\n",
       "      <td>1,997,592</td>\n",
       "      <td>518,974</td>\n",
       "      <td>6,054,464,700</td>\n",
       "    </tr>\n",
       "    <tr>\n",
       "      <th>3</th>\n",
       "      <td>New Face</td>\n",
       "      <td>PSY</td>\n",
       "      <td>male soloist</td>\n",
       "      <td>1,581,019</td>\n",
       "      <td>95.0%</td>\n",
       "      <td>205,665,596</td>\n",
       "      <td>1.099 days</td>\n",
       "      <td>3.010959</td>\n",
       "      <td>1,997,592</td>\n",
       "      <td>518,974</td>\n",
       "      <td>6,054,464,700</td>\n",
       "    </tr>\n",
       "    <tr>\n",
       "      <th>4</th>\n",
       "      <td>I Luv it</td>\n",
       "      <td>PSY</td>\n",
       "      <td>male soloist</td>\n",
       "      <td>973,795</td>\n",
       "      <td>94.7%</td>\n",
       "      <td>101,822,612</td>\n",
       "      <td>1.099 days</td>\n",
       "      <td>3.010959</td>\n",
       "      <td>1,997,592</td>\n",
       "      <td>518,974</td>\n",
       "      <td>6,054,464,700</td>\n",
       "    </tr>\n",
       "  </tbody>\n",
       "</table>\n",
       "</div>"
      ],
      "text/plain": [
       "      Song Title Artist Type of Artist       Likes Likes Ratio       MV Views  \\\n",
       "0  Gangnam Style    PSY   male soloist  17,848,966       88.2%  3,612,465,662   \n",
       "1      Gentleman    PSY   male soloist   6,007,998       87.3%  1,312,037,506   \n",
       "2          Daddy    PSY   male soloist   3,799,519       93.8%    493,121,830   \n",
       "3       New Face    PSY   male soloist   1,581,019       95.0%    205,665,596   \n",
       "4       I Luv it    PSY   male soloist     973,795       94.7%    101,822,612   \n",
       "\n",
       "     Days Old  Years Old   Likes/MV    Sales    Total Views  \n",
       "0  2.859 days   7.832877  1,997,592  518,974  6,054,464,700  \n",
       "1  2.587 days   7.087671  1,997,592  518,974  6,054,464,700  \n",
       "2  1.626 days   4.454795  1,997,592  518,974  6,054,464,700  \n",
       "3  1.099 days   3.010959  1,997,592  518,974  6,054,464,700  \n",
       "4  1.099 days   3.010959  1,997,592  518,974  6,054,464,700  "
      ]
     },
     "execution_count": 12,
     "metadata": {},
     "output_type": "execute_result"
    }
   ],
   "source": [
    "combined_data = pd.merge(df, new)\n",
    "combined_data.head()"
   ]
  },
  {
   "cell_type": "code",
   "execution_count": 13,
   "metadata": {
    "collapsed": true
   },
   "outputs": [],
   "source": [
    "combined_data.to_csv('combined.csv')"
   ]
  },
  {
   "cell_type": "code",
   "execution_count": 14,
   "metadata": {
    "collapsed": true
   },
   "outputs": [],
   "source": [
    "replace_likes = []\n",
    "likes_column = combined_data['Likes']\n",
    "for like in likes_column:\n",
    "    replace_likes.append(no_comma(like))\n",
    "    \n",
    "replace_views = []\n",
    "views_column = combined_data['MV Views']\n",
    "for view in views_column:\n",
    "    replace_views.append(no_comma(view))"
   ]
  },
  {
   "cell_type": "code",
   "execution_count": 15,
   "metadata": {},
   "outputs": [
    {
     "data": {
      "text/html": [
       "<div>\n",
       "<style>\n",
       "    .dataframe thead tr:only-child th {\n",
       "        text-align: right;\n",
       "    }\n",
       "\n",
       "    .dataframe thead th {\n",
       "        text-align: left;\n",
       "    }\n",
       "\n",
       "    .dataframe tbody tr th {\n",
       "        vertical-align: top;\n",
       "    }\n",
       "</style>\n",
       "<table border=\"1\" class=\"dataframe\">\n",
       "  <thead>\n",
       "    <tr style=\"text-align: right;\">\n",
       "      <th></th>\n",
       "      <th>Song Title</th>\n",
       "      <th>Artist</th>\n",
       "      <th>Type of Artist</th>\n",
       "      <th>Likes</th>\n",
       "      <th>Likes Ratio</th>\n",
       "      <th>MV Views</th>\n",
       "      <th>Days Old</th>\n",
       "      <th>Years Old</th>\n",
       "      <th>Likes/MV</th>\n",
       "      <th>Sales</th>\n",
       "      <th>Total Views</th>\n",
       "    </tr>\n",
       "  </thead>\n",
       "  <tbody>\n",
       "    <tr>\n",
       "      <th>0</th>\n",
       "      <td>Gangnam Style</td>\n",
       "      <td>PSY</td>\n",
       "      <td>male soloist</td>\n",
       "      <td>17848966</td>\n",
       "      <td>88.2%</td>\n",
       "      <td>3612465662</td>\n",
       "      <td>2.859 days</td>\n",
       "      <td>7.832877</td>\n",
       "      <td>1,997,592</td>\n",
       "      <td>518,974</td>\n",
       "      <td>6,054,464,700</td>\n",
       "    </tr>\n",
       "    <tr>\n",
       "      <th>7</th>\n",
       "      <td>Boy with luv</td>\n",
       "      <td>BTS</td>\n",
       "      <td>male group</td>\n",
       "      <td>14942987</td>\n",
       "      <td>94.3%</td>\n",
       "      <td>776602125</td>\n",
       "      <td>397 days</td>\n",
       "      <td>1.087671</td>\n",
       "      <td>2,400,603</td>\n",
       "      <td>21,047,066</td>\n",
       "      <td>11,914,564,663</td>\n",
       "    </tr>\n",
       "    <tr>\n",
       "      <th>8</th>\n",
       "      <td>DNA</td>\n",
       "      <td>BTS</td>\n",
       "      <td>male group</td>\n",
       "      <td>13257145</td>\n",
       "      <td>94.9%</td>\n",
       "      <td>978195463</td>\n",
       "      <td>968 days</td>\n",
       "      <td>2.652055</td>\n",
       "      <td>2,400,603</td>\n",
       "      <td>21,047,066</td>\n",
       "      <td>11,914,564,663</td>\n",
       "    </tr>\n",
       "    <tr>\n",
       "      <th>103</th>\n",
       "      <td>Kill this Love</td>\n",
       "      <td>Blackpink</td>\n",
       "      <td>female group</td>\n",
       "      <td>12920236</td>\n",
       "      <td>93.9%</td>\n",
       "      <td>826027265</td>\n",
       "      <td>405 days</td>\n",
       "      <td>1.109589</td>\n",
       "      <td>3,495,869</td>\n",
       "      <td>652,585</td>\n",
       "      <td>6,236,964,281</td>\n",
       "    </tr>\n",
       "    <tr>\n",
       "      <th>104</th>\n",
       "      <td>Ddu-du Ddu-du</td>\n",
       "      <td>Blackpink</td>\n",
       "      <td>female group</td>\n",
       "      <td>12544634</td>\n",
       "      <td>94.5%</td>\n",
       "      <td>1144730047</td>\n",
       "      <td>698 days</td>\n",
       "      <td>1.912329</td>\n",
       "      <td>3,495,869</td>\n",
       "      <td>652,585</td>\n",
       "      <td>6,236,964,281</td>\n",
       "    </tr>\n",
       "  </tbody>\n",
       "</table>\n",
       "</div>"
      ],
      "text/plain": [
       "         Song Title     Artist Type of Artist     Likes Likes Ratio  \\\n",
       "0     Gangnam Style        PSY   male soloist  17848966       88.2%   \n",
       "7      Boy with luv        BTS     male group  14942987       94.3%   \n",
       "8               DNA        BTS     male group  13257145       94.9%   \n",
       "103  Kill this Love  Blackpink   female group  12920236       93.9%   \n",
       "104   Ddu-du Ddu-du  Blackpink   female group  12544634       94.5%   \n",
       "\n",
       "       MV Views    Days Old  Years Old   Likes/MV       Sales     Total Views  \n",
       "0    3612465662  2.859 days   7.832877  1,997,592     518,974   6,054,464,700  \n",
       "7     776602125    397 days   1.087671  2,400,603  21,047,066  11,914,564,663  \n",
       "8     978195463    968 days   2.652055  2,400,603  21,047,066  11,914,564,663  \n",
       "103   826027265    405 days   1.109589  3,495,869     652,585   6,236,964,281  \n",
       "104  1144730047    698 days   1.912329  3,495,869     652,585   6,236,964,281  "
      ]
     },
     "execution_count": 15,
     "metadata": {},
     "output_type": "execute_result"
    }
   ],
   "source": [
    "replace_likes = np.array(replace_likes, dtype=\"int64\")\n",
    "replace_views = np.array(replace_views, dtype=\"int64\")\n",
    "combined_data['Likes'] = replace_likes\n",
    "combined_data['MV Views'] = replace_views\n",
    "sorted_byLikes = combined_data.sort_values(\"Likes\", axis=0, ascending=False)\n",
    "sorted_byLikes.head()"
   ]
  },
  {
   "cell_type": "code",
   "execution_count": 16,
   "metadata": {
    "scrolled": true
   },
   "outputs": [
    {
     "data": {
      "text/html": [
       "<div>\n",
       "<style>\n",
       "    .dataframe thead tr:only-child th {\n",
       "        text-align: right;\n",
       "    }\n",
       "\n",
       "    .dataframe thead th {\n",
       "        text-align: left;\n",
       "    }\n",
       "\n",
       "    .dataframe tbody tr th {\n",
       "        vertical-align: top;\n",
       "    }\n",
       "</style>\n",
       "<table border=\"1\" class=\"dataframe\">\n",
       "  <thead>\n",
       "    <tr style=\"text-align: right;\">\n",
       "      <th></th>\n",
       "      <th>Song Title</th>\n",
       "      <th>Artist</th>\n",
       "      <th>Type of Artist</th>\n",
       "      <th>Likes</th>\n",
       "      <th>Likes Ratio</th>\n",
       "      <th>MV Views</th>\n",
       "      <th>Days Old</th>\n",
       "      <th>Years Old</th>\n",
       "      <th>Likes/MV</th>\n",
       "      <th>Sales</th>\n",
       "      <th>Total Views</th>\n",
       "    </tr>\n",
       "  </thead>\n",
       "  <tbody>\n",
       "    <tr>\n",
       "      <th>0</th>\n",
       "      <td>Gangnam Style</td>\n",
       "      <td>PSY</td>\n",
       "      <td>male soloist</td>\n",
       "      <td>17848966</td>\n",
       "      <td>88.2%</td>\n",
       "      <td>3612465662</td>\n",
       "      <td>2.859 days</td>\n",
       "      <td>7.832877</td>\n",
       "      <td>1,997,592</td>\n",
       "      <td>518,974</td>\n",
       "      <td>6,054,464,700</td>\n",
       "    </tr>\n",
       "    <tr>\n",
       "      <th>1</th>\n",
       "      <td>Gentleman</td>\n",
       "      <td>PSY</td>\n",
       "      <td>male soloist</td>\n",
       "      <td>6007998</td>\n",
       "      <td>87.3%</td>\n",
       "      <td>1312037506</td>\n",
       "      <td>2.587 days</td>\n",
       "      <td>7.087671</td>\n",
       "      <td>1,997,592</td>\n",
       "      <td>518,974</td>\n",
       "      <td>6,054,464,700</td>\n",
       "    </tr>\n",
       "    <tr>\n",
       "      <th>104</th>\n",
       "      <td>Ddu-du Ddu-du</td>\n",
       "      <td>Blackpink</td>\n",
       "      <td>female group</td>\n",
       "      <td>12544634</td>\n",
       "      <td>94.5%</td>\n",
       "      <td>1144730047</td>\n",
       "      <td>698 days</td>\n",
       "      <td>1.912329</td>\n",
       "      <td>3,495,869</td>\n",
       "      <td>652,585</td>\n",
       "      <td>6,236,964,281</td>\n",
       "    </tr>\n",
       "    <tr>\n",
       "      <th>8</th>\n",
       "      <td>DNA</td>\n",
       "      <td>BTS</td>\n",
       "      <td>male group</td>\n",
       "      <td>13257145</td>\n",
       "      <td>94.9%</td>\n",
       "      <td>978195463</td>\n",
       "      <td>968 days</td>\n",
       "      <td>2.652055</td>\n",
       "      <td>2,400,603</td>\n",
       "      <td>21,047,066</td>\n",
       "      <td>11,914,564,663</td>\n",
       "    </tr>\n",
       "    <tr>\n",
       "      <th>105</th>\n",
       "      <td>Boombayah</td>\n",
       "      <td>Blackpink</td>\n",
       "      <td>female group</td>\n",
       "      <td>7561192</td>\n",
       "      <td>95.3%</td>\n",
       "      <td>849999809</td>\n",
       "      <td>1.374 days</td>\n",
       "      <td>3.764384</td>\n",
       "      <td>3,495,869</td>\n",
       "      <td>652,585</td>\n",
       "      <td>6,236,964,281</td>\n",
       "    </tr>\n",
       "  </tbody>\n",
       "</table>\n",
       "</div>"
      ],
      "text/plain": [
       "        Song Title     Artist Type of Artist     Likes Likes Ratio  \\\n",
       "0    Gangnam Style        PSY   male soloist  17848966       88.2%   \n",
       "1        Gentleman        PSY   male soloist   6007998       87.3%   \n",
       "104  Ddu-du Ddu-du  Blackpink   female group  12544634       94.5%   \n",
       "8              DNA        BTS     male group  13257145       94.9%   \n",
       "105      Boombayah  Blackpink   female group   7561192       95.3%   \n",
       "\n",
       "       MV Views    Days Old  Years Old   Likes/MV       Sales     Total Views  \n",
       "0    3612465662  2.859 days   7.832877  1,997,592     518,974   6,054,464,700  \n",
       "1    1312037506  2.587 days   7.087671  1,997,592     518,974   6,054,464,700  \n",
       "104  1144730047    698 days   1.912329  3,495,869     652,585   6,236,964,281  \n",
       "8     978195463    968 days   2.652055  2,400,603  21,047,066  11,914,564,663  \n",
       "105   849999809  1.374 days   3.764384  3,495,869     652,585   6,236,964,281  "
      ]
     },
     "execution_count": 16,
     "metadata": {},
     "output_type": "execute_result"
    }
   ],
   "source": [
    "sorted_byViews = combined_data.sort_values(\"MV Views\", axis=0, ascending=False)\n",
    "sorted_byViews.head()"
   ]
  },
  {
   "cell_type": "code",
   "execution_count": 17,
   "metadata": {
    "scrolled": true
   },
   "outputs": [
    {
     "data": {
      "text/html": [
       "<div>\n",
       "<style>\n",
       "    .dataframe thead tr:only-child th {\n",
       "        text-align: right;\n",
       "    }\n",
       "\n",
       "    .dataframe thead th {\n",
       "        text-align: left;\n",
       "    }\n",
       "\n",
       "    .dataframe tbody tr th {\n",
       "        vertical-align: top;\n",
       "    }\n",
       "</style>\n",
       "<table border=\"1\" class=\"dataframe\">\n",
       "  <thead>\n",
       "    <tr style=\"text-align: right;\">\n",
       "      <th></th>\n",
       "      <th>Song Title</th>\n",
       "      <th>Artist</th>\n",
       "      <th>Type of Artist</th>\n",
       "      <th>Likes</th>\n",
       "      <th>Likes Ratio</th>\n",
       "      <th>MV Views</th>\n",
       "      <th>Days Old</th>\n",
       "      <th>Years Old</th>\n",
       "      <th>Likes/MV</th>\n",
       "      <th>Sales</th>\n",
       "      <th>Total Views</th>\n",
       "    </tr>\n",
       "  </thead>\n",
       "  <tbody>\n",
       "    <tr>\n",
       "      <th>456</th>\n",
       "      <td>Miroh(dance)</td>\n",
       "      <td>StrayKids</td>\n",
       "      <td>male group</td>\n",
       "      <td>389016</td>\n",
       "      <td>99.8%</td>\n",
       "      <td>5001411</td>\n",
       "      <td>402 days</td>\n",
       "      <td>1.101370</td>\n",
       "      <td>479,271</td>\n",
       "      <td>1,026,466</td>\n",
       "      <td>654,638,916</td>\n",
       "    </tr>\n",
       "    <tr>\n",
       "      <th>476</th>\n",
       "      <td>Boom(alternate)</td>\n",
       "      <td>NCTDREAM</td>\n",
       "      <td>male group</td>\n",
       "      <td>303676</td>\n",
       "      <td>99.8%</td>\n",
       "      <td>2949506</td>\n",
       "      <td>278 days</td>\n",
       "      <td>0.761644</td>\n",
       "      <td>433,529</td>\n",
       "      <td>1,048,154</td>\n",
       "      <td>353,880,465</td>\n",
       "    </tr>\n",
       "    <tr>\n",
       "      <th>433</th>\n",
       "      <td>Coming Home</td>\n",
       "      <td>NCTU</td>\n",
       "      <td>male group</td>\n",
       "      <td>358959</td>\n",
       "      <td>99.8%</td>\n",
       "      <td>3907620</td>\n",
       "      <td>152 days</td>\n",
       "      <td>0.416438</td>\n",
       "      <td>672,391</td>\n",
       "      <td>0</td>\n",
       "      <td>376,266,781</td>\n",
       "    </tr>\n",
       "    <tr>\n",
       "      <th>454</th>\n",
       "      <td>N/S</td>\n",
       "      <td>StrayKids</td>\n",
       "      <td>male group</td>\n",
       "      <td>428638</td>\n",
       "      <td>99.8%</td>\n",
       "      <td>7447947</td>\n",
       "      <td>539 days</td>\n",
       "      <td>1.476712</td>\n",
       "      <td>479,271</td>\n",
       "      <td>1,026,466</td>\n",
       "      <td>654,638,916</td>\n",
       "    </tr>\n",
       "    <tr>\n",
       "      <th>455</th>\n",
       "      <td>TMT</td>\n",
       "      <td>StrayKids</td>\n",
       "      <td>male group</td>\n",
       "      <td>405295</td>\n",
       "      <td>99.8%</td>\n",
       "      <td>5523195</td>\n",
       "      <td>317 days</td>\n",
       "      <td>0.868493</td>\n",
       "      <td>479,271</td>\n",
       "      <td>1,026,466</td>\n",
       "      <td>654,638,916</td>\n",
       "    </tr>\n",
       "  </tbody>\n",
       "</table>\n",
       "</div>"
      ],
      "text/plain": [
       "          Song Title     Artist Type of Artist   Likes Likes Ratio  MV Views  \\\n",
       "456     Miroh(dance)  StrayKids     male group  389016       99.8%   5001411   \n",
       "476  Boom(alternate)   NCTDREAM     male group  303676       99.8%   2949506   \n",
       "433      Coming Home       NCTU     male group  358959       99.8%   3907620   \n",
       "454              N/S  StrayKids     male group  428638       99.8%   7447947   \n",
       "455              TMT  StrayKids     male group  405295       99.8%   5523195   \n",
       "\n",
       "     Days Old  Years Old Likes/MV      Sales  Total Views  \n",
       "456  402 days   1.101370  479,271  1,026,466  654,638,916  \n",
       "476  278 days   0.761644  433,529  1,048,154  353,880,465  \n",
       "433  152 days   0.416438  672,391          0  376,266,781  \n",
       "454  539 days   1.476712  479,271  1,026,466  654,638,916  \n",
       "455  317 days   0.868493  479,271  1,026,466  654,638,916  "
      ]
     },
     "execution_count": 17,
     "metadata": {},
     "output_type": "execute_result"
    }
   ],
   "source": [
    "sorted_byRatio = combined_data.sort_values(\"Likes Ratio\", ascending=False)\n",
    "sorted_byRatio.head()"
   ]
  },
  {
   "cell_type": "markdown",
   "metadata": {},
   "source": [
    "## Data Analysis\n",
    "\n",
    "- Use summary functions like mean and standard deviation along with visual displays like scatter plots and histograms to describe data.\n",
    "- Provide at least one model showing patterns or relationships between variables that addresses your research question. This could be a regression or clustering, or something else that measures some property of the dataset."
   ]
  },
  {
   "cell_type": "code",
   "execution_count": 64,
   "metadata": {
    "scrolled": false
   },
   "outputs": [
    {
     "name": "stdout",
     "output_type": "stream",
     "text": [
      "Music Video Views vs. Likes:\n"
     ]
    },
    {
     "data": {
      "image/png": "[encoded data removed]",
      "text/plain": [
       "<Figure size 432x288 with 1 Axes>"
      ]
     },
     "metadata": {},
     "output_type": "display_data"
    }
   ],
   "source": [
    "print('Music Video Views vs. Likes:')\n",
    "plt.scatter(sorted_byViews_ascending['MV Views'], sorted_byViews_ascending['Likes'])\n",
    "plt.show()"
   ]
  },
  {
   "cell_type": "code",
   "execution_count": 18,
   "metadata": {},
   "outputs": [
    {
     "name": "stdout",
     "output_type": "stream",
     "text": [
      "Female Groups:\n",
      "Correlation Coefficient between MV Views and Likes: 0.9202292639988282\n",
      "Slope: 0.00953676204451341\n",
      "Intercept: 177261.15103183768\n",
      "Score: 0.8468218983198252\n",
      "Mean number of MV views: 85767907.44202898\n",
      "Standard deviation of MV Views: 133385682.00802307\n",
      "Mean number of Likes: 995209.2753623188\n",
      "Standard deviation of Likes:1382337.5969678676\n",
      "\n",
      "Male groups:\n",
      "Correlation Coefficient between MV Views and Likes: 0.8529617896293398\n",
      "Slope: 0.013108893485631011\n",
      "Intercept: 409048.68383956247\n",
      "Score: 0.7275438145676862\n",
      "Mean number of MV views: 60958127.31481481\n",
      "Standard deviation of MV Views: 107085789.3417437\n",
      "Mean number of Likes: 1208142.2818930042\n",
      "Standard deviation of Likes: 1645766.8132070233\n",
      "\n",
      "Coed groups:\n",
      "Correlation Coefficient between MV Views and Likes: 0.8016360871271917\n",
      "Slope:0.0028390120762925098\n",
      "Intercept: 473630.7708508823\n",
      "Score: 0.6426204161845945\n",
      "Mean number of MV views: 64761759.86486486\n",
      "Standard deviation of MV Views: 124320794.22458468\n",
      "Mean number of Likes: 657490.1891891892\n",
      "Standard deviation of Likes: 440284.86467310373\n",
      "\n"
     ]
    },
    {
     "data": {
      "image/png": "[encoded data removed]",
      "text/plain": [
       "<Figure size 432x288 with 1 Axes>"
      ]
     },
     "metadata": {},
     "output_type": "display_data"
    }
   ],
   "source": [
    "sorted_byViews_ascending = combined_data.sort_values(\"MV Views\", axis=0, ascending=True)\n",
    "\n",
    "female_groups=sorted_byViews_ascending[sorted_byViews_ascending['Type of Artist'] == \"female group\"]\n",
    "male_groups=sorted_byViews_ascending[sorted_byViews_ascending['Type of Artist'] == \"male group\"]\n",
    "coed_groups=sorted_byViews_ascending[sorted_byViews_ascending['Type of Artist'] == \"coed group\"]\n",
    "\n",
    "plt.scatter(female_groups['MV Views'], female_groups['Likes'], label=\"female groups\")\n",
    "plt.scatter(male_groups['MV Views'], male_groups['Likes'], label=\"male groups\")\n",
    "plt.scatter(coed_groups['MV Views'], coed_groups['Likes'], label=\"coed groups\")\n",
    "\n",
    "model = LinearRegression()\n",
    "model.fit(female_groups[['MV Views']], female_groups[['Likes']])\n",
    "y_pred = model.predict(female_groups[['MV Views']])\n",
    "plt.plot(female_groups['MV Views'], y_pred)\n",
    "female_mv_likes = model.coef_[0][0]\n",
    "\n",
    "print(\"Female Groups:\")\n",
    "print('Correlation Coefficient between MV Views and Likes:', np.corrcoef(female_groups['MV Views'], female_groups['Likes'])[0][1])\n",
    "print(\"Slope: \" + str(model.coef_[0][0]))\n",
    "print(\"Intercept: \" + str(model.intercept_[0]))\n",
    "print(\"Score: \" + str(model.score(female_groups[['MV Views']], female_groups[['Likes']])))\n",
    "\n",
    "print(\"Mean number of MV views: \" + str(female_groups['MV Views'].mean()))\n",
    "print(\"Standard deviation of MV Views: \" + str(female_groups['MV Views'].std()))\n",
    "\n",
    "print(\"Mean number of Likes: \" + str(female_groups['Likes'].mean()))\n",
    "print(\"Standard deviation of Likes:\" + str(female_groups['Likes'].std()) +  \"\\n\")\n",
    "\n",
    "model = LinearRegression()\n",
    "model.fit(male_groups[['MV Views']], male_groups[['Likes']])\n",
    "y_pred = model.predict(male_groups[['MV Views']])\n",
    "plt.plot(male_groups['MV Views'], y_pred)\n",
    "male_mv_likes = model.coef_[0][0]\n",
    "\n",
    "print(\"Male groups:\")\n",
    "print('Correlation Coefficient between MV Views and Likes:', np.corrcoef(male_groups['MV Views'], male_groups['Likes'])[0][1])\n",
    "print(\"Slope: \" + str(model.coef_[0][0]))\n",
    "print(\"Intercept: \" + str(model.intercept_[0]))\n",
    "print(\"Score: \" + str(model.score(male_groups[['MV Views']], male_groups[['Likes']])))\n",
    "\n",
    "print(\"Mean number of MV views: \" + str(male_groups['MV Views'].mean()))\n",
    "print(\"Standard deviation of MV Views: \" + str(male_groups['MV Views'].std()))\n",
    "\n",
    "print(\"Mean number of Likes: \" + str(male_groups['Likes'].mean()))\n",
    "print(\"Standard deviation of Likes: \" + str(male_groups['Likes'].std()) + '\\n')\n",
    "\n",
    "model = LinearRegression()\n",
    "model.fit(coed_groups[['MV Views']], coed_groups[['Likes']])\n",
    "y_pred = model.predict(coed_groups[['MV Views']])\n",
    "plt.plot(coed_groups['MV Views'], y_pred)\n",
    "coed_mv_likes = model.coef_[0][0]\n",
    "\n",
    "print(\"Coed groups:\")\n",
    "print('Correlation Coefficient between MV Views and Likes:', np.corrcoef(coed_groups['MV Views'], coed_groups['Likes'])[0][1])\n",
    "print(\"Slope:\" + str(model.coef_[0][0]))\n",
    "print(\"Intercept: \" + str(model.intercept_[0]))\n",
    "print(\"Score: \" + str(model.score(coed_groups[['MV Views']], coed_groups[['Likes']])))\n",
    "\n",
    "print(\"Mean number of MV views: \" + str(coed_groups['MV Views'].mean()))\n",
    "print(\"Standard deviation of MV Views: \" + str(coed_groups['MV Views'].std()))\n",
    "\n",
    "print(\"Mean number of Likes: \" + str(coed_groups['Likes'].mean()))\n",
    "print(\"Standard deviation of Likes: \" + str(coed_groups['Likes'].std()) + \"\\n\")\n",
    "\n",
    "plt.legend()\n",
    "plt.xlabel(\"MV Views\")\n",
    "plt.ylabel(\"Likes\")\n",
    "plt.title(\"MV Views vs Likes for different types of groups\")\n",
    "plt.show()"
   ]
  },
  {
   "cell_type": "code",
   "execution_count": 19,
   "metadata": {},
   "outputs": [
    {
     "name": "stdout",
     "output_type": "stream",
     "text": [
      "0.01081864406239532\n",
      "Groups:\n",
      "Correlation Coefficient between MV Views and Likes: 0.8360590874189195\n",
      "Slope: 0.01081864406239532\n",
      "Intercept: 354982.34210651205\n",
      "Score: 0.6989947976557568\n",
      "Mean number of MV views: 69704352.24530663\n",
      "Standard deviation of MV Views: 118046465.8129733\n",
      "Mean number of Likes: 1109088.9186483105\n",
      "Standard deviation of Likes: 1527526.8407128318\n",
      "\n",
      "Soloists:\n",
      "Correlation Coefficient between MV Views and Likes: 0.8785744470514014\n",
      "Slope:0.004924510900483625\n",
      "Intercept: 613980.4303706298\n",
      "Score: 0.7718930590116762\n",
      "Mean number of MV views: 72609416.38121547\n",
      "Standard deviation of MV Views: 287344310.4429597\n",
      "Mean number of Likes: 971546.2928176796\n",
      "Standard deviation of Likes: 1610597.9336381939\n"
     ]
    },
    {
     "data": {
      "image/png": "[encoded data removed]",
      "text/plain": [
       "<Figure size 432x288 with 1 Axes>"
      ]
     },
     "metadata": {},
     "output_type": "display_data"
    }
   ],
   "source": [
    "groups=sorted_byViews_ascending[sorted_byViews_ascending['Type of Artist'].str.contains(\"group\")]\n",
    "solos=sorted_byViews_ascending[sorted_byViews_ascending['Type of Artist'].str.contains(\"soloist\")]\n",
    "\n",
    "plt.scatter(groups['MV Views'], groups['Likes'], label=\"groups\")\n",
    "plt.scatter(solos['MV Views'][:-1], solos['Likes'][:-1], label=\"solos\")\n",
    "\n",
    "model = LinearRegression()\n",
    "model.fit(groups[['MV Views']], groups[['Likes']])\n",
    "y_pred = model.predict(groups[['MV Views']])\n",
    "plt.plot(groups['MV Views'], y_pred)\n",
    "groups_mv_likes = model.coef_[0][0]\n",
    "print(groups_mv_likes)\n",
    "\n",
    "print(\"Groups:\")\n",
    "print('Correlation Coefficient between MV Views and Likes:', np.corrcoef(groups['MV Views'], groups['Likes'])[0][1])\n",
    "print(\"Slope: \" + str(model.coef_[0][0]))\n",
    "print(\"Intercept: \" + str(model.intercept_[0]))\n",
    "print(\"Score: \" + str(model.score(groups[['MV Views']], groups[['Likes']])))\n",
    "print(\"Mean number of MV views: \" + str(groups['MV Views'].mean()))\n",
    "print(\"Standard deviation of MV Views: \" + str(groups['MV Views'].std()))\n",
    "print(\"Mean number of Likes: \" + str(groups['Likes'].mean()))\n",
    "print(\"Standard deviation of Likes: \" + str(groups['Likes'].std()) + \"\\n\")\n",
    "\n",
    "model = LinearRegression()\n",
    "model.fit(solos[['MV Views']], solos[['Likes']])\n",
    "y_pred = model.predict(solos[['MV Views']])\n",
    "plt.plot(solos['MV Views'][:-1], y_pred[:-1])\n",
    "solos_mv_likes = model.coef_[0][0]\n",
    "\n",
    "print(\"Soloists:\")\n",
    "print('Correlation Coefficient between MV Views and Likes:', np.corrcoef(solos['MV Views'], solos['Likes'])[0][1])\n",
    "print(\"Slope:\" + str(model.coef_[0][0]))\n",
    "print(\"Intercept: \" + str(model.intercept_[0]))\n",
    "print(\"Score: \" + str(model.score(solos[['MV Views']], solos[['Likes']])))\n",
    "print(\"Mean number of MV views: \" + str(solos['MV Views'].mean()))\n",
    "print(\"Standard deviation of MV Views: \" + str(solos['MV Views'].std()))\n",
    "print(\"Mean number of Likes: \" + str(solos['Likes'].mean()))\n",
    "print(\"Standard deviation of Likes: \" + str(solos['Likes'].std()))\n",
    "\n",
    "plt.legend()\n",
    "plt.xlabel(\"MV Views\")\n",
    "plt.ylabel(\"Likes\")\n",
    "plt.title(\"MV Views vs Likes for groups and soloists\")\n",
    "plt.show()"
   ]
  },
  {
   "cell_type": "code",
   "execution_count": 65,
   "metadata": {},
   "outputs": [
    {
     "name": "stdout",
     "output_type": "stream",
     "text": [
      "Correlation Coefficient between MV Views and Likes: 0.7858616410112756\n",
      "Slope: 0.007444518531224244\n",
      "Intercept: 560775.9575061544\n",
      "Score: 0.6175785188129357\n",
      "Mean number of MV views: 70240899.80510204\n",
      "Standard deviation of MV Views: 162913230.1802108\n",
      "Mean number of Likes: 1083685.637755102\n",
      "Standard deviation of Likes: 1543287.644753205\n"
     ]
    }
   ],
   "source": [
    "model = LinearRegression().fit(sorted_byViews_ascending[['MV Views']], sorted_byViews_ascending[['Likes']])\n",
    "mv_vs_likes_slope = model.coef_[0][0]\n",
    "print('Correlation Coefficient between MV Views and Likes:', np.corrcoef(combined_data['MV Views'], combined_data['Likes'])[0][1])\n",
    "print('Slope:', model.coef_[0][0])\n",
    "print('Intercept:', model.intercept_[0])\n",
    "print('Score:', model.score(combined_data[['MV Views']], combined_data[['Likes']]))\n",
    "\n",
    "print(\"Mean number of MV views: \" + str(combined_data['MV Views'].mean()))\n",
    "print(\"Standard deviation of MV Views: \" + str(combined_data['MV Views'].std()))\n",
    "\n",
    "print(\"Mean number of Likes: \" + str(combined_data['Likes'].mean()))\n",
    "print(\"Standard deviation of Likes: \" + str(combined_data['Likes'].std()))"
   ]
  },
  {
   "cell_type": "code",
   "execution_count": 22,
   "metadata": {},
   "outputs": [
    {
     "name": "stdout",
     "output_type": "stream",
     "text": [
      "Age of Music Video vs. Music Video Views:\n",
      "Correlation: 0.16743591886318027\n",
      "Slope: 11370004.653302517\n",
      "Intercept: 35141374.3974525\n",
      "Score: 0.02803478692555772\n",
      "Age of Music Video vs. Music Video Views:\n"
     ]
    },
    {
     "data": {
      "image/png": "[encoded data removed]",
      "text/plain": [
       "<Figure size 432x288 with 1 Axes>"
      ]
     },
     "metadata": {},
     "output_type": "display_data"
    }
   ],
   "source": [
    "age = sorted_byViews[\"Years Old\"]\n",
    "views = sorted_byViews[\"MV Views\"]\n",
    "\n",
    "model = LinearRegression().fit(sorted_byViews[[\"Years Old\"]], sorted_byViews[[\"MV Views\"]])\n",
    "age_vs_views_slope = model.coef_[0][0]\n",
    "\n",
    "print(\"Age of Music Video vs. Music Video Views:\")\n",
    "print(\"Correlation:\", np.corrcoef(age, views)[0][1])\n",
    "print(\"Slope:\", model.coef_[0][0])\n",
    "print(\"Intercept:\", model.intercept_[0])\n",
    "print(\"Score:\", model.score(sorted_byViews[[\"Years Old\"]], sorted_byViews[[\"MV Views\"]]))\n",
    "\n",
    "print('Age of Music Video vs. Music Video Views:')\n",
    "plt.scatter(age, views)\n",
    "plt.show()"
   ]
  },
  {
   "cell_type": "markdown",
   "metadata": {},
   "source": [
    "## Evaluation of Significance\n",
    "\n",
    "Use hypothesis tests, simulation, randomization, or any other techniques we have learned to compare the patterns you observe in the dataset to simple randomness. "
   ]
  },
  {
   "cell_type": "code",
   "execution_count": 61,
   "metadata": {
    "collapsed": true
   },
   "outputs": [],
   "source": [
    "def permuted_y(array):\n",
    "    return np.random.permutation(array.copy())\n",
    "\n",
    "# params\n",
    "# xarray = x dataframe col from model\n",
    "# yarray = y dataframe col from model\n",
    "# slopes = slope array to fill\n",
    "# original_slope = original slope\n",
    "def get_steeper_slopes(xarray, yarray, slopes, original_slope):\n",
    "    steeper_slopes = 0\n",
    "    for i in range(len(slopes)):\n",
    "        fake_y = permuted_y(yarray)\n",
    "        lr = LinearRegression().fit(xarray, fake_y)\n",
    "        fake_slope = lr.coef_[0]\n",
    "        slopes[i] = fake_slope\n",
    "        if np.abs(fake_slope) > np.abs(original_slope):\n",
    "            steeper_slopes += 1\n",
    "    print(\"Number of steeper slopes: {}\".format(steeper_slopes))\n",
    "    plt.hist(reg_slopes, bins = 30)\n",
    "    plt.show()\n",
    "    return steeper_slopes\n",
    "            \n",
    "def get_standard_error(x, y, predict):\n",
    "    mean_x = np.mean(x)\n",
    "    sum_x_squared = np.sum((x - mean_x) ** 2)\n",
    "    sum_squared_error = np.sum((y - predict) ** 2)\n",
    "    return np.sqrt(sum_squared_error / (len(x) - 2)) / np.sqrt(sum_x_squared)\n",
    "\n",
    "# params\n",
    "# slopes = filled slope array of length 1000\n",
    "# std_error = array from get_standard_error\n",
    "# original_slope = original slope\n",
    "# df = number of x values - 2\n",
    "# steeper_slopes = count of steeper slopes\n",
    "def plot_t_disb(slopes, std_error, original_slope, df_val, steeper_slopes):\n",
    "    bins = np.linspace( -5, 5, 30) #left edges of bins\n",
    "    n, bins, patches = plt.hist(slopes / std_error, bins = bins)\n",
    "    for b, p in zip(bins, patches):\n",
    "        if b >= original_slope:\n",
    "            p.set_color(\"red\") #steeper slopes\n",
    "\n",
    "        else:\n",
    "            p.set_color(\"darkblue\")\n",
    "\n",
    "    plt.plot(bins, t.pdf(bins, df = df_val) * 1000 * (bins[1] - bins[0]))\n",
    "    plt.show()\n",
    "    \n",
    "    print(\"Percent of steeper slopes:\", steeper_slopes / 2 / 1000)\n",
    "    print(\"t distribution:\", 1 - t.cdf(original_slope / std_error, df = df_val))\n",
    "#     print(\"Percent of steeper slopes:\\t{}\".format(steeper_slopes / 2 / 1000))\n",
    "#     print(\"t distribution: {:3f}\".format(1 - t.cdf(original_slope / std_error, df = df_val)))"
   ]
  },
  {
   "cell_type": "code",
   "execution_count": 57,
   "metadata": {},
   "outputs": [
    {
     "name": "stdout",
     "output_type": "stream",
     "text": [
      "0.01081864406239532\n",
      "0.004924510900483625\n",
      "0.00953676204451341\n",
      "0.013108893485631011\n",
      "0.007444518531224244\n",
      "11370004.653302517\n"
     ]
    }
   ],
   "source": [
    "#original slopes\n",
    "print(groups_mv_likes)\n",
    "print(solos_mv_likes)\n",
    "print(female_mv_likes)\n",
    "print(male_mv_likes)\n",
    "print(mv_vs_likes_slope)\n",
    "print(age_vs_views_slope)"
   ]
  },
  {
   "cell_type": "markdown",
   "metadata": {},
   "source": [
    "### MVs vs Likes for K-pop Groups"
   ]
  },
  {
   "cell_type": "code",
   "execution_count": 63,
   "metadata": {
    "scrolled": false
   },
   "outputs": [
    {
     "name": "stdout",
     "output_type": "stream",
     "text": [
      "MVs vs Likes for K-pop Groups Randomization\n",
      "Number of steeper slopes: 0\n"
     ]
    },
    {
     "data": {
      "image/png": "[encoded data removed]",
      "text/plain": [
       "<Figure size 432x288 with 1 Axes>"
      ]
     },
     "metadata": {},
     "output_type": "display_data"
    },
    {
     "name": "stdout",
     "output_type": "stream",
     "text": [
      "0.0002514743538771832\n"
     ]
    }
   ],
   "source": [
    "reg_slopes = np.zeros(1000)\n",
    "print(\"MVs vs Likes for K-pop Groups Randomization\")\n",
    "steeper_slopes = get_steeper_slopes(groups[['MV Views']], groups['Likes'], reg_slopes, groups_mv_likes)\n",
    "np.set_printoptions(formatter={'float': lambda x: \"{0:0.5f}\".format(x)})\n",
    "t_model = LinearRegression().fit(groups[['MV Views']], groups['Likes'])\n",
    "std_error = get_standard_error(groups[\"MV Views\"],\n",
    "                               groups[\"Likes\"],\n",
    "                               t_model.predict(groups[[\"MV Views\"]]))\n",
    "\n",
    "print(std_error)"
   ]
  },
  {
   "cell_type": "code",
   "execution_count": 55,
   "metadata": {
    "scrolled": true
   },
   "outputs": [
    {
     "name": "stdout",
     "output_type": "stream",
     "text": [
      "Visual of % of Steeper slopes between MV Views and Likes\n"
     ]
    },
    {
     "data": {
      "image/png": "[encoded data removed]",
      "text/plain": [
       "<Figure size 432x288 with 1 Axes>"
      ]
     },
     "metadata": {},
     "output_type": "display_data"
    },
    {
     "name": "stdout",
     "output_type": "stream",
     "text": [
      "Percent of steeper slopes: 0.0\n",
      "t distribution: 0.0\n"
     ]
    }
   ],
   "source": [
    "print(\"Visual of % of Steeper slopes between MV Views and Likes\")\n",
    "df_val = len(groups[[\"MV Views\"]]) - 2\n",
    "plot_t_disb(reg_slopes, std_error, groups_mv_likes, df_val, steeper_slopes)"
   ]
  },
  {
   "cell_type": "markdown",
   "metadata": {},
   "source": [
    "### MVs vs Likes for K-pop Solos"
   ]
  },
  {
   "cell_type": "code",
   "execution_count": 45,
   "metadata": {
    "scrolled": true
   },
   "outputs": [
    {
     "name": "stdout",
     "output_type": "stream",
     "text": [
      "MVs vs Likes for K-pop Solos\n",
      "Number of steeper slopes: 0\n"
     ]
    },
    {
     "data": {
      "image/png": "[encoded data removed]",
      "text/plain": [
       "<Figure size 432x288 with 1 Axes>"
      ]
     },
     "metadata": {},
     "output_type": "display_data"
    },
    {
     "name": "stdout",
     "output_type": "stream",
     "text": [
      "Standard error: 0.00020009086882648771\n"
     ]
    }
   ],
   "source": [
    "reg_slopes = np.zeros(1000)\n",
    "print(\"MVs vs Likes for K-pop Solos\")\n",
    "steeper_slopes = get_steeper_slopes(solos[['MV Views']], solos['Likes'], reg_slopes, solos_mv_likes)\n",
    "t_model = LinearRegression().fit(solos[[\"MV Views\"]], solos[\"Likes\"])\n",
    "std_error = get_standard_error(solos[\"MV Views\"],\n",
    "                               solos[\"Likes\"],\n",
    "                               t_model.predict(solos[[\"MV Views\"]]))\n",
    "print(\"Standard error:\", std_error)"
   ]
  },
  {
   "cell_type": "code",
   "execution_count": 46,
   "metadata": {
    "scrolled": true
   },
   "outputs": [
    {
     "name": "stdout",
     "output_type": "stream",
     "text": [
      "Visual of % of Steeper slopes between MV Views and Likes\n"
     ]
    },
    {
     "data": {
      "image/png": "[encoded data removed]",
      "text/plain": [
       "<Figure size 432x288 with 1 Axes>"
      ]
     },
     "metadata": {},
     "output_type": "display_data"
    },
    {
     "name": "stdout",
     "output_type": "stream",
     "text": [
      "Percent of steeper slopes:\t0.0\n",
      "t distribution: 0.000000\n"
     ]
    }
   ],
   "source": [
    "print(\"Visual of % of Steeper slopes between MV Views and Likes\")\n",
    "df_val = len(solos[[\"MV Views\"]]) - 2\n",
    "plot_t_disb(reg_slopes, std_error, solos_mv_likes, df_val, steeper_slopes)"
   ]
  },
  {
   "cell_type": "markdown",
   "metadata": {},
   "source": [
    "### MVs vs Likes for Female K-pop"
   ]
  },
  {
   "cell_type": "code",
   "execution_count": 47,
   "metadata": {},
   "outputs": [
    {
     "name": "stdout",
     "output_type": "stream",
     "text": [
      "MVs vs Likes for Female K-pop\n",
      "Number of steeper slopes: 0\n"
     ]
    },
    {
     "data": {
      "image/png": "[encoded data removed]",
      "text/plain": [
       "<Figure size 432x288 with 1 Axes>"
      ]
     },
     "metadata": {},
     "output_type": "display_data"
    },
    {
     "name": "stdout",
     "output_type": "stream",
     "text": [
      "Standard error: 0.00024503491231347757\n"
     ]
    }
   ],
   "source": [
    "reg_slopes = np.zeros(1000)\n",
    "print(\"MVs vs Likes for Female K-pop\")\n",
    "steeper_slopes = get_steeper_slopes(female_groups[['MV Views']], female_groups['Likes'], reg_slopes, female_mv_likes)\n",
    "t_model = LinearRegression().fit(female_groups[[\"MV Views\"]], female_groups[\"Likes\"])\n",
    "std_error = get_standard_error(female_groups[\"MV Views\"],\n",
    "                               female_groups[\"Likes\"],\n",
    "                               t_model.predict(female_groups[[\"MV Views\"]]))\n",
    "\n",
    "print(\"Standard error:\", std_error)"
   ]
  },
  {
   "cell_type": "code",
   "execution_count": 48,
   "metadata": {
    "scrolled": true
   },
   "outputs": [
    {
     "name": "stdout",
     "output_type": "stream",
     "text": [
      "Visual of % of Steeper slopes between MV Views and Likes\n"
     ]
    },
    {
     "data": {
      "image/png": "[encoded data removed]",
      "text/plain": [
       "<Figure size 432x288 with 1 Axes>"
      ]
     },
     "metadata": {},
     "output_type": "display_data"
    },
    {
     "name": "stdout",
     "output_type": "stream",
     "text": [
      "Percent of steeper slopes:\t0.0\n",
      "t distribution: 0.000000\n"
     ]
    }
   ],
   "source": [
    "print(\"Visual of % of Steeper slopes between MV Views and Likes\")\n",
    "df_val = len(female_groups[[\"MV Views\"]]) - 2\n",
    "plot_t_disb(reg_slopes, std_error, female_mv_likes, df_val, steeper_slopes)"
   ]
  },
  {
   "cell_type": "markdown",
   "metadata": {},
   "source": [
    "### MVs vs Likes for Male K-pop"
   ]
  },
  {
   "cell_type": "code",
   "execution_count": 49,
   "metadata": {},
   "outputs": [
    {
     "name": "stdout",
     "output_type": "stream",
     "text": [
      "Total MV Views vs Likes Randomization\n",
      "Number of steeper slopes: 0\n"
     ]
    },
    {
     "data": {
      "image/png": "[encoded data removed]",
      "text/plain": [
       "<Figure size 432x288 with 1 Axes>"
      ]
     },
     "metadata": {},
     "output_type": "display_data"
    },
    {
     "name": "stdout",
     "output_type": "stream",
     "text": [
      "Standard error: 0.0003646381575473369\n"
     ]
    }
   ],
   "source": [
    "reg_slopes = np.zeros(1000)\n",
    "print(\"Total MV Views vs Likes Randomization\")\n",
    "steeper_slopes = get_steeper_slopes(male_groups[['MV Views']], male_groups['Likes'], reg_slopes, male_mv_likes)\n",
    "t_model = LinearRegression().fit(male_groups[[\"MV Views\"]], male_groups[\"Likes\"])\n",
    "std_error = get_standard_error(male_groups[\"MV Views\"],\n",
    "                               male_groups[\"Likes\"],\n",
    "                               t_model.predict(male_groups[[\"MV Views\"]]))\n",
    "print(\"Standard error:\", std_error)"
   ]
  },
  {
   "cell_type": "code",
   "execution_count": 50,
   "metadata": {
    "scrolled": true
   },
   "outputs": [
    {
     "name": "stdout",
     "output_type": "stream",
     "text": [
      "Visual of % of Steeper slopes between MV Views and Likes\n"
     ]
    },
    {
     "data": {
      "image/png": "[encoded data removed]",
      "text/plain": [
       "<Figure size 432x288 with 1 Axes>"
      ]
     },
     "metadata": {},
     "output_type": "display_data"
    },
    {
     "name": "stdout",
     "output_type": "stream",
     "text": [
      "Percent of steeper slopes:\t0.0\n",
      "t distribution: 0.000000\n"
     ]
    }
   ],
   "source": [
    "print(\"Visual of % of Steeper slopes between MV Views and Likes\")\n",
    "df_val = len(male_groups[[\"MV Views\"]]) - 2\n",
    "plot_t_disb(reg_slopes, std_error, male_mv_likes, df_val, steeper_slopes)"
   ]
  },
  {
   "cell_type": "markdown",
   "metadata": {},
   "source": [
    "### MVs vs Likes for Coed K-pop"
   ]
  },
  {
   "cell_type": "code",
   "execution_count": 51,
   "metadata": {
    "scrolled": true
   },
   "outputs": [
    {
     "name": "stdout",
     "output_type": "stream",
     "text": [
      "Total MV Views vs Likes Randomization\n",
      "Number of steeper slopes: 0\n"
     ]
    },
    {
     "data": {
      "image/png": "[encoded data removed]",
      "text/plain": [
       "<Figure size 432x288 with 1 Axes>"
      ]
     },
     "metadata": {},
     "output_type": "display_data"
    },
    {
     "name": "stdout",
     "output_type": "stream",
     "text": [
      "Standard error: 0.00035786632012271944\n"
     ]
    }
   ],
   "source": [
    "reg_slopes = np.zeros(1000)\n",
    "print(\"Total MV Views vs Likes Randomization\")\n",
    "steeper_slopes = get_steeper_slopes(coed_groups[['MV Views']], coed_groups['Likes'], reg_slopes, coed_mv_likes)\n",
    "t_model = LinearRegression().fit(coed_groups[[\"MV Views\"]], coed_groups[\"Likes\"])\n",
    "std_error = get_standard_error(coed_groups[\"MV Views\"],\n",
    "                               coed_groups[\"Likes\"],\n",
    "                               t_model.predict(coed_groups[[\"MV Views\"]]))\n",
    "print(\"Standard error:\", std_error)"
   ]
  },
  {
   "cell_type": "code",
   "execution_count": 34,
   "metadata": {
    "scrolled": true
   },
   "outputs": [
    {
     "name": "stdout",
     "output_type": "stream",
     "text": [
      "Visual of % of Steeper slopes between MV Views and Likes\n"
     ]
    },
    {
     "data": {
      "image/png": "[encoded data removed]",
      "text/plain": [
       "<Figure size 432x288 with 1 Axes>"
      ]
     },
     "metadata": {},
     "output_type": "display_data"
    },
    {
     "name": "stdout",
     "output_type": "stream",
     "text": [
      "Percent of steeper slopes:\t0.0\n",
      "t distribution: 0.000000\n"
     ]
    }
   ],
   "source": [
    "print(\"Visual of % of Steeper slopes between MV Views and Likes\")\n",
    "df_val = len(coed_groups[[\"MV Views\"]]) - 2\n",
    "plot_t_disb(reg_slopes, std_error, coed_mv_likes, df_val, steeper_slopes)"
   ]
  },
  {
   "cell_type": "markdown",
   "metadata": {},
   "source": [
    "### MVs vs Likes for All K-pop"
   ]
  },
  {
   "cell_type": "code",
   "execution_count": 35,
   "metadata": {
    "scrolled": true
   },
   "outputs": [
    {
     "name": "stdout",
     "output_type": "stream",
     "text": [
      "Number of steeper slopes: 0\n"
     ]
    },
    {
     "data": {
      "image/png": "[encoded data removed]",
      "text/plain": [
       "<Figure size 432x288 with 1 Axes>"
      ]
     },
     "metadata": {},
     "output_type": "display_data"
    },
    {
     "name": "stdout",
     "output_type": "stream",
     "text": [
      "Standard error: 0.00018732348840678955\n"
     ]
    }
   ],
   "source": [
    "reg_slopes = np.zeros(1000)\n",
    "steeper_slopes = get_steeper_slopes(sorted_byViews[['MV Views']], sorted_byViews['Likes'], reg_slopes, mv_vs_likes_slope)\n",
    "t_model = LinearRegression().fit(sorted_byViews[[\"MV Views\"]], sorted_byViews[\"Likes\"])\n",
    "std_error = get_standard_error(sorted_byViews[\"MV Views\"],\n",
    "                               sorted_byViews[\"Likes\"],\n",
    "                               t_model.predict(sorted_byViews[[\"MV Views\"]]))\n",
    "print(\"Standard error:\", std_error)"
   ]
  },
  {
   "cell_type": "code",
   "execution_count": 36,
   "metadata": {
    "scrolled": true
   },
   "outputs": [
    {
     "name": "stdout",
     "output_type": "stream",
     "text": [
      "Visual of % of Steeper slopes between MV Views and Likes\n"
     ]
    },
    {
     "data": {
      "image/png": "[encoded data removed]",
      "text/plain": [
       "<Figure size 432x288 with 1 Axes>"
      ]
     },
     "metadata": {},
     "output_type": "display_data"
    },
    {
     "name": "stdout",
     "output_type": "stream",
     "text": [
      "Percent of steeper slopes:\t0.0\n",
      "t distribution: 0.000000\n"
     ]
    }
   ],
   "source": [
    "print(\"Visual of % of Steeper slopes between MV Views and Likes\")\n",
    "df_val = len(sorted_byViews[[\"MV Views\"]]) - 2\n",
    "plot_t_disb(reg_slopes, std_error, mv_vs_likes_slope, df_val, steeper_slopes)"
   ]
  },
  {
   "cell_type": "markdown",
   "metadata": {},
   "source": [
    "### How old MV is vs MV Views"
   ]
  },
  {
   "cell_type": "code",
   "execution_count": 37,
   "metadata": {},
   "outputs": [
    {
     "name": "stdout",
     "output_type": "stream",
     "text": [
      "Age of Music Video vs. Music Video Views: Randomization\n",
      "Number of steeper slopes: 0\n"
     ]
    },
    {
     "data": {
      "image/png": "[encoded data removed]",
      "text/plain": [
       "<Figure size 432x288 with 1 Axes>"
      ]
     },
     "metadata": {},
     "output_type": "display_data"
    },
    {
     "name": "stdout",
     "output_type": "stream",
     "text": [
      "Standard error: 2140759.825766173\n"
     ]
    }
   ],
   "source": [
    "reg_slopes = np.zeros(1000)\n",
    "print(\"Age of Music Video vs. Music Video Views: Randomization\")\n",
    "steeper_slopes = get_steeper_slopes(sorted_byViews[[\"Years Old\"]], sorted_byViews[\"MV Views\"], reg_slopes, age_vs_views_slope)\n",
    "t_model = LinearRegression().fit(sorted_byViews[[\"Years Old\"]], sorted_byViews[\"MV Views\"])\n",
    "std_error = get_standard_error(sorted_byViews[\"Years Old\"],\n",
    "                               sorted_byViews[\"MV Views\"],\n",
    "                               t_model.predict(sorted_byViews[[\"Years Old\"]]))\n",
    "print(\"Standard error:\", std_error)"
   ]
  },
  {
   "cell_type": "code",
   "execution_count": 38,
   "metadata": {
    "scrolled": true
   },
   "outputs": [
    {
     "name": "stdout",
     "output_type": "stream",
     "text": [
      "Visual of % of Steeper slopes between MV Views and Likes\n"
     ]
    },
    {
     "data": {
      "image/png": "[encoded data removed]",
      "text/plain": [
       "<Figure size 432x288 with 1 Axes>"
      ]
     },
     "metadata": {},
     "output_type": "display_data"
    },
    {
     "name": "stdout",
     "output_type": "stream",
     "text": [
      "Percent of steeper slopes:\t0.0\n",
      "t distribution: 0.000000\n"
     ]
    }
   ],
   "source": [
    "print(\"Visual of % of Steeper slopes between MV Views and Likes\")\n",
    "df_val = len(sorted_byViews[[\"Years Old\"]]) - 2\n",
    "plot_t_disb(reg_slopes, std_error, age_vs_views_slope, df_val, steeper_slopes)"
   ]
  },
  {
   "cell_type": "markdown",
   "metadata": {},
   "source": [
    "## Conclusion\n",
    "\n",
    "What did you find over the course of your data analysis, and how confident are you in these conclusions? Interpret these results in the wider context of the real-life application from where your data hails."
   ]
  },
  {
   "cell_type": "markdown",
   "metadata": {},
   "source": [
    "## Source Code\n",
    "\n",
    "Provide a link to your Github repository (or other file hosting site) that has all of your project code (if applicable). For example, you might include web scraping code or data filtering and aggregation code."
   ]
  },
  {
   "cell_type": "markdown",
   "metadata": {},
   "source": [
    "## Acknowledgements\n",
    "\n",
    "Recognize any people or online resources that you found helpful. These can be tutorials, software packages, Stack Overflow questions, peers, and data sources. Showing gratitude is a great way to feel happier! But it also has the nice side-effect of reassuring us that you're not passing off someone else's work as your own. Crossover with other courses is permitted and encouraged, but it must be clearly stated, and it must be obvious what parts were and were not done for 2950. Copying without attribution robs you of the chance to learn, and wastes our time investigating."
   ]
  },
  {
   "cell_type": "code",
   "execution_count": null,
   "metadata": {
    "collapsed": true
   },
   "outputs": [],
   "source": []
  }
 ],
 "metadata": {
  "kernelspec": {
   "display_name": "Python 3",
   "language": "python",
   "name": "python3"
  },
  "language_info": {
   "codemirror_mode": {
    "name": "ipython",
    "version": 3
   },
   "file_extension": ".py",
   "mimetype": "text/x-python",
   "name": "python",
   "nbconvert_exporter": "python",
   "pygments_lexer": "ipython3",
   "version": "3.6.2"
  }
 },
 "nbformat": 4,
 "nbformat_minor": 2
}
